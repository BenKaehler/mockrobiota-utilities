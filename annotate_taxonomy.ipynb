{
 "cells": [
  {
   "cell_type": "code",
   "execution_count": 1,
   "metadata": {
    "collapsed": true
   },
   "outputs": [],
   "source": [
    "from os.path import join, exists\n",
    "from os import makedirs\n",
    "import re"
   ]
  },
  {
   "cell_type": "code",
   "execution_count": 2,
   "metadata": {
    "collapsed": true
   },
   "outputs": [],
   "source": [
    "# source taxonomy to match against reference\n",
    "source_fp = '/Users/nbokulich/Desktop/projects/mockrobiota/data/mock-11/source/taxonomy.tsv'\n",
    "\n",
    "# reference taxonomy to use for annotation\n",
    "ref_taxa_fp = '/Users/nbokulich/Desktop/ref_dbs/SILVA123_QIIME_release/taxonomy/18S_only/99/taxonomy_7_levels.txt'\n",
    "\n",
    "# destination directory path\n",
    "destination_dir = '/Users/nbokulich/Desktop/projects/mockrobiota/data/mock-11/silva/123/99_otus/'"
   ]
  },
  {
   "cell_type": "code",
   "execution_count": 13,
   "metadata": {
    "collapsed": false
   },
   "outputs": [
    {
     "name": "stdout",
     "output_type": "stream",
     "text": [
      "Eukaryota;Metazoa;Chordata;Craniata;Vertebrata;Euteleostomi;Mammalia;Eutheria;Euarchontoglires;Primates;Haplorrhini;Catarrhini;Hominidae;Homo;Homo sapiens\t0.0833333334\n",
      "\n",
      "Eukaryota;Metazoa;Chordata;Craniata;Vertebrata;Euteleostomi;Mammalia;Eutheria;Euarchontoglires;Primates;Haplorrhini;Catarrhini;Hominidae;Homo;Homo sapiens\n",
      "['Homo', 'sapiens']\n"
     ]
    },
    {
     "data": {
      "text/plain": [
       "'Eukaryota;Metazoa;Chordata;Craniata;Vertebrata;Euteleostomi;Mammalia;Eutheria;Euarchontoglires;Primates;Haplorrhini;Catarrhini;Hominidae;Homo;Homo sapiens'"
      ]
     },
     "execution_count": 13,
     "metadata": {},
     "output_type": "execute_result"
    }
   ],
   "source": [
    "print(l)\n",
    "print(name)\n",
    "print(taxon)\n",
    "l.strip().split('\\t')[0]"
   ]
  },
  {
   "cell_type": "code",
   "execution_count": 3,
   "metadata": {
    "collapsed": false
   },
   "outputs": [
    {
     "ename": "ValueError",
     "evalue": "could not convert string to float: ';Trichophyton_sp'",
     "output_type": "error",
     "traceback": [
      "\u001b[0;31m---------------------------------------------------------------------------\u001b[0m",
      "\u001b[0;31mValueError\u001b[0m                                Traceback (most recent call last)",
      "\u001b[0;32m<ipython-input-3-05f56f5c9df1>\u001b[0m in \u001b[0;36m<module>\u001b[0;34m()\u001b[0m\n\u001b[1;32m      5\u001b[0m     \u001b[0;32mfor\u001b[0m \u001b[0ml\u001b[0m \u001b[0;32min\u001b[0m \u001b[0msource\u001b[0m\u001b[0;34m:\u001b[0m\u001b[0;34m\u001b[0m\u001b[0m\n\u001b[1;32m      6\u001b[0m         \u001b[0;31m# convert abundances to float\u001b[0m\u001b[0;34m\u001b[0m\u001b[0;34m\u001b[0m\u001b[0m\n\u001b[0;32m----> 7\u001b[0;31m         \u001b[0mabundances\u001b[0m \u001b[0;34m=\u001b[0m \u001b[0mlist\u001b[0m\u001b[0;34m(\u001b[0m\u001b[0mmap\u001b[0m\u001b[0;34m(\u001b[0m\u001b[0mfloat\u001b[0m\u001b[0;34m,\u001b[0m \u001b[0ml\u001b[0m\u001b[0;34m.\u001b[0m\u001b[0mstrip\u001b[0m\u001b[0;34m(\u001b[0m\u001b[0;34m)\u001b[0m\u001b[0;34m.\u001b[0m\u001b[0msplit\u001b[0m\u001b[0;34m(\u001b[0m\u001b[0;34m'\\t'\u001b[0m\u001b[0;34m)\u001b[0m\u001b[0;34m[\u001b[0m\u001b[0;36m1\u001b[0m\u001b[0;34m:\u001b[0m\u001b[0;34m]\u001b[0m\u001b[0;34m)\u001b[0m\u001b[0;34m)\u001b[0m\u001b[0;34m\u001b[0m\u001b[0m\n\u001b[0m\u001b[1;32m      8\u001b[0m         \u001b[0mname\u001b[0m \u001b[0;34m=\u001b[0m \u001b[0ml\u001b[0m\u001b[0;34m.\u001b[0m\u001b[0mstrip\u001b[0m\u001b[0;34m(\u001b[0m\u001b[0;34m)\u001b[0m\u001b[0;34m.\u001b[0m\u001b[0msplit\u001b[0m\u001b[0;34m(\u001b[0m\u001b[0;34m'\\t'\u001b[0m\u001b[0;34m)\u001b[0m\u001b[0;34m[\u001b[0m\u001b[0;36m0\u001b[0m\u001b[0;34m]\u001b[0m\u001b[0;34m\u001b[0m\u001b[0m\n\u001b[1;32m      9\u001b[0m         \u001b[0mtaxon\u001b[0m \u001b[0;34m=\u001b[0m \u001b[0mre\u001b[0m\u001b[0;34m.\u001b[0m\u001b[0msplit\u001b[0m\u001b[0;34m(\u001b[0m\u001b[0;34m' |_'\u001b[0m\u001b[0;34m,\u001b[0m \u001b[0mname\u001b[0m\u001b[0;34m.\u001b[0m\u001b[0msplit\u001b[0m\u001b[0;34m(\u001b[0m\u001b[0;34m';'\u001b[0m\u001b[0;34m)\u001b[0m\u001b[0;34m[\u001b[0m\u001b[0;34m-\u001b[0m\u001b[0;36m1\u001b[0m\u001b[0;34m]\u001b[0m\u001b[0;34m)\u001b[0m\u001b[0;34m[\u001b[0m\u001b[0;36m0\u001b[0m\u001b[0;34m:\u001b[0m\u001b[0;36m2\u001b[0m\u001b[0;34m]\u001b[0m\u001b[0;34m\u001b[0m\u001b[0m\n",
      "\u001b[0;31mValueError\u001b[0m: could not convert string to float: ';Trichophyton_sp'"
     ]
    }
   ],
   "source": [
    "# generate dict of {name: (genus, species, abundances)}\n",
    "with open(source_fp, \"r\") as source:\n",
    "    sample_list = source.readline().strip().split('\\t')[1:]\n",
    "    taxa = {}\n",
    "    for l in source:\n",
    "        # convert abundances to float\n",
    "        abundances = list(map(float, l.strip().split('\\t')[1:]))\n",
    "        name = l.strip().split('\\t')[0]\n",
    "        taxon = re.split(' |_', name.split(';')[-1])[0:2]\n",
    "        taxa[name] = (taxon, abundances)"
   ]
  },
  {
   "cell_type": "code",
   "execution_count": 7,
   "metadata": {
    "collapsed": false
   },
   "outputs": [
    {
     "data": {
      "text/plain": [
       "{'Eukaryota;Fungi;Ascomycota;Eurotiomycetes;Onygenales;Arthrodermataceae;Trichophyton': (['Trichophyton'],\n",
       "  [0.0833333333]),\n",
       " 'Eukaryota;Fungi;Ascomycota;Eurotiomycetes;Onygenales;Onygenaceae;Coccidioides;Coccidioides_immitis': (['Coccidioides',\n",
       "   'immitis'],\n",
       "  [0.0833333333]),\n",
       " 'Eukaryota;Fungi;Ascomycota;Saccharomycetes;Saccharomycetales;Incertae_sedis;Candida;Candida_albicans': (['Candida',\n",
       "   'albicans'],\n",
       "  [0.0833333333]),\n",
       " 'Eukaryota;Fungi;Ascomycota;Saccharomycetes;Saccharomycetales;Incertae_sedis;Candida;Candida_tropicalis': (['Candida',\n",
       "   'tropicalis'],\n",
       "  [0.0833333333]),\n",
       " 'Eukaryota;Fungi;Ascomycota;Saccharomycetes;Saccharomycetales;Saccharomycetaceae;Candida;Candida_lusitaniae': (['Candida',\n",
       "   'lusitaniae'],\n",
       "  [0.0833333333]),\n",
       " 'Eukaryota;Fungi;Ascomycota;Saccharomycetes;Saccharomycetales;Saccharomycetaceae;Saccharomyces;Saccharomyces_cerevisiae': (['Saccharomyces',\n",
       "   'cerevisiae'],\n",
       "  [0.0833333333]),\n",
       " 'Eukaryota;Fungi;Ascomycota;Schizosaccharomycetes;Schizosaccharomycetales;Schizosaccharomycetaceae;Schizosaccharomyces;Schizosaccharomyces_pombe': (['Schizosaccharomyces',\n",
       "   'pombe'],\n",
       "  [0.0833333333]),\n",
       " 'Eukaryota;Fungi;Ascomycota;Sordariomycetes;Hypocreales;Nectriaceae;Fusarium;Fusarium_oxysporum': (['Fusarium',\n",
       "   'oxysporum'],\n",
       "  [0.0833333333]),\n",
       " 'Eukaryota;Fungi;Basidiomycota;Tremellomycetes;Tremellales;Tremellaceae;Cryptococcus;Cryptococcus_neoformans': (['Cryptococcus',\n",
       "   'neoformans'],\n",
       "  [0.0833333334]),\n",
       " 'Eukaryota;Fungi;Chytridiomycota;Chytridiomycetes;Rhizophydiales;Incertae_sedis;Batrachochytrium;Batrachochytrium_dendrobatidis': (['Batrachochytrium',\n",
       "   'dendrobatidis'],\n",
       "  [0.0833333334]),\n",
       " 'Eukaryota;Fungi;Incertae_sedis;Incertae_sedis;Mucorales;Incertae_sedis;Rhizopus;Rhizopus_oryzae': (['Rhizopus',\n",
       "   'oryzae'],\n",
       "  [0.0833333334]),\n",
       " 'Eukaryota;Metazoa;Chordata;Craniata;Vertebrata;Euteleostomi;Mammalia;Eutheria;Euarchontoglires;Primates;Haplorrhini;Catarrhini;Hominidae;Homo;Homo sapiens': (['Homo',\n",
       "   'sapiens'],\n",
       "  [0.0833333334])}"
      ]
     },
     "execution_count": 7,
     "metadata": {},
     "output_type": "execute_result"
    }
   ],
   "source": [
    "taxa"
   ]
  },
  {
   "cell_type": "code",
   "execution_count": 180,
   "metadata": {
    "collapsed": false
   },
   "outputs": [],
   "source": [
    "# parse ref taxonomy\n",
    "with open(ref_taxa_fp, \"r\") as ref:\n",
    "    ref_taxa = {l.strip().split('\\t')[1]: (l.strip().split('\\t')[1].split(';')[-2],\n",
    "                                           l.strip().split('\\t')[1].split(';')[-1],\n",
    "                                           l.strip().split('\\t')[0]\n",
    "                                          ) for l in ref}\n"
   ]
  },
  {
   "cell_type": "code",
   "execution_count": 242,
   "metadata": {
    "collapsed": true
   },
   "outputs": [],
   "source": [
    "def add_lists(l1, l2):\n",
    "    newlist = [sum(tup) for tup in zip(l1, l2)]\n",
    "    return newlist\n"
   ]
  },
  {
   "cell_type": "code",
   "execution_count": 243,
   "metadata": {
    "collapsed": false
   },
   "outputs": [
    {
     "data": {
      "text/plain": [
       "[0.2, 0.4, 0.6]"
      ]
     },
     "execution_count": 243,
     "metadata": {},
     "output_type": "execute_result"
    }
   ],
   "source": [
    "a1 = [0.1, 0.2, 0.3]\n",
    "a2 = [0.1, 0.2, 0.3]\n",
    "a3 = add_lists(a1, a2)\n",
    "a3"
   ]
  },
  {
   "cell_type": "code",
   "execution_count": 244,
   "metadata": {
    "collapsed": false
   },
   "outputs": [
    {
     "name": "stdout",
     "output_type": "stream",
     "text": [
      "Howardella ureilytica DSM 15118 has no matches to /Users/nbokulich/Desktop/ref_dbs/gg_13_8_otus/taxonomy/99_otu_taxonomy.txt.\n",
      "Perform a manual search of your reference database to match the\n",
      "nearest basal lineage. A good place to start is NCBI taxonomy\n",
      "(https://www.ncbi.nlm.nih.gov/taxonomy) to find the current\n",
      "accepted taxonomy, then use grep or similar to search for the\n",
      "nearest lineage in your reference. Assign the nearest basal lineage.\n",
      "For example, if Lactobacillus casei has no species or genus-level\n",
      "matches in the database, but Lactobacillales is present, assign\n",
      "the taxonomy string up to Lactobacillales.\n",
      "\n",
      "Enter the correct taxonomy for the basal lineage here:\n"
     ]
    }
   ],
   "source": [
    "# find matching taxonomies\n",
    "species_match = 0\n",
    "genus_match = 0\n",
    "no_match = 0\n",
    "count = len(taxa)\n",
    "\n",
    "duplicates = []\n",
    "seq_ids = dict()\n",
    "new_taxa = dict()\n",
    "\n",
    "for name, t in taxa.items():\n",
    "    match = 'None'\n",
    "    \n",
    "    # search for match at genus, then species level\n",
    "    for full, partial in ref_taxa.items():\n",
    "        if t[0][0] in partial[0]:\n",
    "            if t[0][1] in partial[1]:\n",
    "                match = 'species'\n",
    "                seq_ids[full] = partial[2]\n",
    "                break\n",
    "            else:\n",
    "                match = 'genus'\n",
    "                genus = ';'.join(full.split(';')[:-1])\n",
    "                \n",
    "    # now add match to new_taxa\n",
    "    if match == 'species':\n",
    "        species_match += 1\n",
    "        if full not in new_taxa.keys():\n",
    "            new_taxa[full] = (name, t[1])\n",
    "        else:\n",
    "            # if species is replicated, collapse abundances\n",
    "            \n",
    "            new_taxa[full] = (name, add_lists(new_taxa[full][1], t[1]))\n",
    "            #new_taxa[full] = (name, [sum(tup) for tup in zip(new_taxa[full][1], t[1])])\n",
    "            duplicates.append(full)\n",
    "\n",
    "    elif match == 'genus':\n",
    "        genus_match += 1\n",
    "        if genus not in new_taxa.keys():\n",
    "            new_taxa[genus] = (name, t[1])\n",
    "        else:\n",
    "            # if genus is replicated, collapse abundances\n",
    "            new_taxa[genus] = (name, add_lists(new_taxa[genus][1], t[1]))\n",
    "            #new_taxa[genus] = (name, [sum(tup) for tup in zip(new_taxa[genus][1], t[1])])\n",
    "            duplicates.append(genus)\n",
    "\n",
    "    # if failed, user needs to manually search and input new string\n",
    "    else:\n",
    "        no_match += 1\n",
    "        print('{0} has no matches to {1}.'.format(name, ref_taxa_fp))\n",
    "        print('Perform a manual search of your reference database to match the')\n",
    "        print('nearest basal lineage. A good place to start is NCBI taxonomy')\n",
    "        print('(https://www.ncbi.nlm.nih.gov/taxonomy) to find the current')\n",
    "        print('accepted taxonomy, then use grep or similar to search for the')\n",
    "        print('nearest lineage in your reference. Assign the nearest basal lineage.')\n",
    "        print('For example, if Lactobacillus casei has no species or genus-level')\n",
    "        print('matches in the database, but Lactobacillales is present, assign')\n",
    "        print('the taxonomy string up to Lactobacillales.')\n",
    "        print('\\nEnter the correct taxonomy for the basal lineage here:')\n",
    "        lineage = 'fake'#input('> ')\n",
    "        #failures.append(name)\n",
    "        #new_taxa[name] = (name, t[1])\n",
    "        if lineage not in new_taxa.keys():\n",
    "            new_taxa[lineage] = (name, t[1])\n",
    "        else:\n",
    "            # if genus is replicated, collapse abundances\n",
    "            new_taxa[lineage] = (name, add_lists(new_taxa[lineage][1], t[1]))\n",
    "            #new_taxa[lineage] = (name, [sum(tup) for tup in zip(new_taxa[lineage][1], t[1])])\n",
    "            duplicates.append(lineage)\n"
   ]
  },
  {
   "cell_type": "code",
   "execution_count": 245,
   "metadata": {
    "collapsed": false
   },
   "outputs": [
    {
     "data": {
      "text/plain": [
       "{'fake': ('Howardella ureilytica DSM 15118', [0.037037037]),\n",
       " 'k__Bacteria; p__Bacteroidetes; c__Bacteroidia; o__Bacteroidales; f__Bacteroidaceae; g__Bacteroides': ('Bacteroides cellulosilyticus DSM 14838',\n",
       "  [0.148148148]),\n",
       " 'k__Bacteria; p__Bacteroidetes; c__Bacteroidia; o__Bacteroidales; f__Bacteroidaceae; g__Bacteroides; s__eggerthii': ('Bacteroides eggerthii BEI HM-210',\n",
       "  [0.037037037]),\n",
       " 'k__Bacteria; p__Bacteroidetes; c__Bacteroidia; o__Bacteroidales; f__Bacteroidaceae; g__Bacteroides; s__fragilis': ('Bacteroides fragilis ATCC 23745',\n",
       "  [0.037037037]),\n",
       " 'k__Bacteria; p__Bacteroidetes; c__Bacteroidia; o__Bacteroidales; f__Bacteroidaceae; g__Bacteroides; s__ovatus': ('Bacteroides ovatus DSM 1896',\n",
       "  [0.037037037]),\n",
       " 'k__Bacteria; p__Bacteroidetes; c__Bacteroidia; o__Bacteroidales; f__Bacteroidaceae; g__Bacteroides; s__uniformis': ('Bacteroides uniformis DSM 6597',\n",
       "  [0.037037037]),\n",
       " 'k__Bacteria; p__Bacteroidetes; c__Bacteroidia; o__Bacteroidales; f__Porphyromonadaceae; g__Parabacteroides': ('Parabacteroides merdae DSM 19495',\n",
       "  [0.0740740742]),\n",
       " 'k__Bacteria; p__Bacteroidetes; c__Bacteroidia; o__Bacteroidales; f__Porphyromonadaceae; g__Parabacteroides; s__distasonis': ('Parabacteroides distasonis JCM 13401',\n",
       "  [0.0740740742]),\n",
       " 'k__Bacteria; p__Bacteroidetes; c__Bacteroidia; o__Bacteroidales; f__Prevotellaceae; g__Prevotella': ('Prevotella buccalis ATCC 35310',\n",
       "  [0.0370370371]),\n",
       " 'k__Bacteria; p__Bacteroidetes; c__Bacteroidia; o__Bacteroidales; f__Prevotellaceae; g__Prevotella; s__copri': ('Prevotella copri DSM 18205',\n",
       "  [0.0370370371]),\n",
       " 'k__Bacteria; p__Bacteroidetes; c__Bacteroidia; o__Bacteroidales; f__[Barnesiellaceae]; g__Barnesiella; s__intestinihominis': ('Barnesiella intestinihominis DSM 21032',\n",
       "  [0.037037037]),\n",
       " 'k__Bacteria; p__Bacteroidetes; c__Bacteroidia; o__Bacteroidales; f__[Paraprevotellaceae]; g__Paraprevotella': ('Paraprevotella clara DSM 19731',\n",
       "  [0.0370370371]),\n",
       " 'k__Bacteria; p__Firmicutes; c__Clostridia; o__Clostridiales; f__Clostridiaceae; g__Clostridium; s__celatum': ('Clostridium celatum JCM 1394',\n",
       "  [0.037037037]),\n",
       " 'k__Bacteria; p__Firmicutes; c__Clostridia; o__Clostridiales; f__Lachnospiraceae; g__Coprococcus': ('Coprococcus comes ATCC 27758',\n",
       "  [0.037037037]),\n",
       " 'k__Bacteria; p__Firmicutes; c__Clostridia; o__Clostridiales; f__Lachnospiraceae; g__Roseburia': ('Roseburia intestinalis DSM 14610',\n",
       "  [0.0370370371]),\n",
       " 'k__Bacteria; p__Firmicutes; c__Clostridia; o__Clostridiales; f__Lachnospiraceae; g__Roseburia; s__inulinivorans': ('Roseburia inulinivorans DSM 16841',\n",
       "  [0.0370370371]),\n",
       " 'k__Bacteria; p__Firmicutes; c__Clostridia; o__Clostridiales; f__Lachnospiraceae; g__[Ruminococcus]; s__gnavus': ('Ruminococcus gnavus ATCC 29149',\n",
       "  [0.0370370371]),\n",
       " 'k__Bacteria; p__Firmicutes; c__Clostridia; o__Clostridiales; f__Peptostreptococcaceae; g__[Clostridium]': ('Clostridium xylanovorans DSM 12503',\n",
       "  [0.074074074]),\n",
       " 'k__Bacteria; p__Firmicutes; c__Clostridia; o__Clostridiales; f__Ruminococcaceae; g__Clostridium; s__methylpentosum': ('Clostridium methylpentosum DSM 5476',\n",
       "  [0.037037037]),\n",
       " 'k__Bacteria; p__Firmicutes; c__Erysipelotrichi; o__Erysipelotrichales; f__Erysipelotrichaceae; g__Clostridium; s__cocleatum': ('Clostridium cocleatum DSM 1551',\n",
       "  [0.037037037]),\n",
       " 'k__Bacteria; p__Firmicutes; c__Erysipelotrichi; o__Erysipelotrichales; f__Erysipelotrichaceae; g__[Eubacterium]': ('Eubacterium rectale DSM 17629',\n",
       "  [0.037037037])}"
      ]
     },
     "execution_count": 245,
     "metadata": {},
     "output_type": "execute_result"
    }
   ],
   "source": [
    "new_taxa"
   ]
  },
  {
   "cell_type": "code",
   "execution_count": 236,
   "metadata": {
    "collapsed": false
   },
   "outputs": [
    {
     "name": "stdout",
     "output_type": "stream",
     "text": [
      "13 species-level matches (48.1%)\n",
      "13 genus-level matches (48.1%)\n",
      "1 FAILURES (3.7%)\n",
      "\n",
      "6 duplicates:\n",
      "k__Bacteria; p__Bacteroidetes; c__Bacteroidia; o__Bacteroidales; f__Bacteroidaceae; g__Bacteroides\n",
      "Parabacteroides distasonis JCM 13401\n",
      "k__Bacteria; p__Bacteroidetes; c__Bacteroidia; o__Bacteroidales; f__Bacteroidaceae; g__Bacteroides\n",
      "k__Bacteria; p__Bacteroidetes; c__Bacteroidia; o__Bacteroidales; f__Bacteroidaceae; g__Bacteroides\n",
      "k__Bacteria; p__Firmicutes; c__Clostridia; o__Clostridiales; f__Peptostreptococcaceae; g__[Clostridium]\n",
      "k__Bacteria; p__Bacteroidetes; c__Bacteroidia; o__Bacteroidales; f__Porphyromonadaceae; g__Parabacteroides\n"
     ]
    }
   ],
   "source": [
    "print('{0} species-level matches ({1:.1f}%)'.format(species_match, species_match/count*100))\n",
    "print('{0} genus-level matches ({1:.1f}%)'.format(genus_match, genus_match/count*100))\n",
    "if no_match > 0:\n",
    "    print('{0} FAILURES ({1:.1f}%)'.format(no_match, no_match/count*100))\n",
    "    \n",
    "if len(duplicates) > 0:\n",
    "    print('\\n{0} duplicates:'.format(len(duplicates)))\n",
    "    for dup in duplicates:\n",
    "        print(dup)\n",
    "\n"
   ]
  },
  {
   "cell_type": "markdown",
   "metadata": {},
   "source": [
    "## Write to file"
   ]
  },
  {
   "cell_type": "code",
   "execution_count": 208,
   "metadata": {
    "collapsed": false
   },
   "outputs": [],
   "source": [
    "if not exists(destination_dir):\n",
    "    makedirs(destination_dir)\n",
    "    \n",
    "with open(join(destination_dir, 'expected-taxonomy.tsv'), \"w\") as dest:\n",
    "    dest.write('Taxonomy\\t{0}\\n'.format('\\t'.join(sample_list)))\n",
    "    for name, t in new_taxa.items():\n",
    "        abundances = [\"{:.10f}\".format(n) for n in t[1]]\n",
    "        dest.write('{0}\\t{1}\\n'.format(name, '\\t'.join(abundances)))\n",
    "\n",
    "with open(join(destination_dir, 'database-identifiers.tsv'), \"w\") as dest:\n",
    "    for t, seq_id in seq_ids.items():\n",
    "        dest.write('{0}\\t{1}\\n'.format(t, seq_id))\n"
   ]
  },
  {
   "cell_type": "code",
   "execution_count": null,
   "metadata": {
    "collapsed": true
   },
   "outputs": [],
   "source": []
  }
 ],
 "metadata": {
  "anaconda-cloud": {},
  "kernelspec": {
   "display_name": "Python [conda env:python-3]",
   "language": "python",
   "name": "conda-env-python-3-py"
  },
  "language_info": {
   "codemirror_mode": {
    "name": "ipython",
    "version": 3
   },
   "file_extension": ".py",
   "mimetype": "text/x-python",
   "name": "python",
   "nbconvert_exporter": "python",
   "pygments_lexer": "ipython3",
   "version": "3.5.2"
  }
 },
 "nbformat": 4,
 "nbformat_minor": 1
}
